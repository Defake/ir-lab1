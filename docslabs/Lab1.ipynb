{
 "cells": [
  {
   "cell_type": "code",
   "execution_count": 4,
   "metadata": {},
   "outputs": [],
   "source": [
    "from sklearn.feature_extraction.text import TfidfVectorizer\n",
    "from sklearn.svm import LinearSVC"
   ]
  },
  {
   "cell_type": "code",
   "execution_count": null,
   "metadata": {},
   "outputs": [],
   "source": [
    "### Load files from original dataset, clean it from 2-classed samples ###\n",
    "### Better use prepared dataset written to a single file at the next cell !!!\n",
    "\n",
    "from sklearn.datasets import load_files\n",
    "reviews_train = load_files(\"/Volumes/MainBrain/Programming/Projects/University/IR-LAB1/docslabs/data/aclImdb/train\")\n",
    "text_train, y_train = reviews_train.data, reviews_train.target\n",
    "print(\"Number of documents in training data: %d\" % len(text_train))\n",
    "print(np.bincount(y_train))\n",
    "\n",
    "# change the path to the file\n",
    "reviews_test = load_files(\"/Volumes/MainBrain/Programming/Projects/University/IR-LAB1/docslabs/data/aclImdb/test\")\n",
    "text_test, y_test = reviews_test.data, reviews_test.target\n",
    "\n",
    "print(\"Number of documents in test data: %d\" % len(text_test))\n",
    "np.bincount(y_test)\n",
    "\n",
    "inds = []\n",
    "for i in range(len(y_train)):\n",
    "    if y_train[i] == 2:\n",
    "        inds.append(i)\n",
    "inds = set(inds)\n",
    "text_train_new = []\n",
    "y_train_new = []\n",
    "for i in range(len(y_train)):\n",
    "    if i not in inds:\n",
    "        text_train_new.append(text_train[i])\n",
    "        y_train_new.append(y_train[i])\n",
    "\n",
    "text_train = text_train_new\n",
    "y_train = y_train_new"
   ]
  },
  {
   "cell_type": "code",
   "execution_count": 2,
   "metadata": {},
   "outputs": [],
   "source": [
    "def get_file_content(fpath, enc='utf-8'):\n",
    "  file = open(fpath, \"r\", encoding=enc)\n",
    "  content = file.read()\n",
    "  file.close()\n",
    "  return content.split('\\n')\n",
    "\n",
    "text_train = get_file_content(\"/Volumes/MainBrain/Programming/Projects/University/IR-LAB1/docslabs/data/lab1/text_train.txt\")\n",
    "y_train = get_file_content(\"/Volumes/MainBrain/Programming/Projects/University/IR-LAB1/docslabs/data/lab1/y_train.txt\")\n",
    "\n",
    "text_test = get_file_content(\"/Volumes/MainBrain/Programming/Projects/University/IR-LAB1/docslabs/data/lab1/text_test.txt\")\n",
    "y_test = get_file_content(\"/Volumes/MainBrain/Programming/Projects/University/IR-LAB1/docslabs/data/lab1/y_test.txt\")"
   ]
  },
  {
   "cell_type": "code",
   "execution_count": 7,
   "metadata": {},
   "outputs": [
    {
     "name": "stdout",
     "output_type": "stream",
     "text": [
      "Train score: 0.95\n",
      "Test score: 0.88\n"
     ]
    }
   ],
   "source": [
    "vectorizer = TfidfVectorizer(stop_words='english', max_features=50000)\n",
    "vectorizer.fit(text_train)\n",
    "X_train = vectorizer.transform(text_train)\n",
    "X_test = vectorizer.transform(text_test)\n",
    "\n",
    "logit = LinearSVC(max_iter=20, C=0.15, random_state=12)\n",
    "logit.fit(X_train, y_train)\n",
    "\n",
    "print(\"Train score:\", round(logit.score(X_train, y_train), 3))\n",
    "print(\"Test score:\", round(logit.score(X_test, y_test), 3))"
   ]
  }
 ],
 "metadata": {
  "kernelspec": {
   "display_name": "Python 3",
   "language": "python",
   "name": "python3"
  },
  "language_info": {
   "codemirror_mode": {
    "name": "ipython",
    "version": 3
   },
   "file_extension": ".py",
   "mimetype": "text/x-python",
   "name": "python",
   "nbconvert_exporter": "python",
   "pygments_lexer": "ipython3",
   "version": "3.6.4"
  }
 },
 "nbformat": 4,
 "nbformat_minor": 2
}
